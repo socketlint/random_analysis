{
 "cells": [
  {
   "cell_type": "code",
   "execution_count": 1,
   "metadata": {},
   "outputs": [],
   "source": [
    "import numpy as np\n",
    "import pandas as pd\n",
    "import seaborn as sns"
   ]
  },
  {
   "cell_type": "code",
   "execution_count": 2,
   "metadata": {},
   "outputs": [],
   "source": [
    "usa_addiction = pd.read_csv('data/addiction/usa_addiction.csv')\n",
    "usa_addiction.YEAR =  pd.to_datetime(usa_addiction.YEAR, format='%Y')"
   ]
  },
  {
   "cell_type": "code",
   "execution_count": 8,
   "metadata": {},
   "outputs": [
    {
     "data": {
      "text/html": [
       "<div>\n",
       "<style scoped>\n",
       "    .dataframe tbody tr th:only-of-type {\n",
       "        vertical-align: middle;\n",
       "    }\n",
       "\n",
       "    .dataframe tbody tr th {\n",
       "        vertical-align: top;\n",
       "    }\n",
       "\n",
       "    .dataframe thead th {\n",
       "        text-align: right;\n",
       "    }\n",
       "</style>\n",
       "<table border=\"1\" class=\"dataframe\">\n",
       "  <thead>\n",
       "    <tr style=\"text-align: right;\">\n",
       "      <th></th>\n",
       "      <th>YEAR</th>\n",
       "      <th>STATE</th>\n",
       "      <th>RATE</th>\n",
       "      <th>DEATHS</th>\n",
       "      <th>URL</th>\n",
       "    </tr>\n",
       "  </thead>\n",
       "  <tbody>\n",
       "    <tr>\n",
       "      <th>0</th>\n",
       "      <td>2020</td>\n",
       "      <td>AL</td>\n",
       "      <td>22.3</td>\n",
       "      <td>1029</td>\n",
       "      <td>/nchs/pressroom/states/alabama/al.htm</td>\n",
       "    </tr>\n",
       "    <tr>\n",
       "      <th>1</th>\n",
       "      <td>2020</td>\n",
       "      <td>AK</td>\n",
       "      <td>22.0</td>\n",
       "      <td>160</td>\n",
       "      <td>/nchs/pressroom/states/alaska/ak.htm</td>\n",
       "    </tr>\n",
       "    <tr>\n",
       "      <th>2</th>\n",
       "      <td>2020</td>\n",
       "      <td>AZ</td>\n",
       "      <td>35.8</td>\n",
       "      <td>2550</td>\n",
       "      <td>/nchs/pressroom/states/arizona/az.htm</td>\n",
       "    </tr>\n",
       "    <tr>\n",
       "      <th>3</th>\n",
       "      <td>2020</td>\n",
       "      <td>AR</td>\n",
       "      <td>19.1</td>\n",
       "      <td>546</td>\n",
       "      <td>/nchs/pressroom/states/arkansas/ar.htm</td>\n",
       "    </tr>\n",
       "    <tr>\n",
       "      <th>4</th>\n",
       "      <td>2020</td>\n",
       "      <td>CA</td>\n",
       "      <td>21.8</td>\n",
       "      <td>8908</td>\n",
       "      <td>/nchs/pressroom/states/california/ca.htm</td>\n",
       "    </tr>\n",
       "    <tr>\n",
       "      <th>...</th>\n",
       "      <td>...</td>\n",
       "      <td>...</td>\n",
       "      <td>...</td>\n",
       "      <td>...</td>\n",
       "      <td>...</td>\n",
       "    </tr>\n",
       "    <tr>\n",
       "      <th>445</th>\n",
       "      <td>1999</td>\n",
       "      <td>VA</td>\n",
       "      <td>5.0</td>\n",
       "      <td>366</td>\n",
       "      <td>/nchs/pressroom/states/virginia/virginia.htm</td>\n",
       "    </tr>\n",
       "    <tr>\n",
       "      <th>446</th>\n",
       "      <td>1999</td>\n",
       "      <td>WA</td>\n",
       "      <td>9.3</td>\n",
       "      <td>555</td>\n",
       "      <td>/nchs/pressroom/states/washington/washington.htm</td>\n",
       "    </tr>\n",
       "    <tr>\n",
       "      <th>447</th>\n",
       "      <td>1999</td>\n",
       "      <td>WV</td>\n",
       "      <td>4.1</td>\n",
       "      <td>75</td>\n",
       "      <td>/nchs/pressroom/states/westvirginia/westvirgin...</td>\n",
       "    </tr>\n",
       "    <tr>\n",
       "      <th>448</th>\n",
       "      <td>1999</td>\n",
       "      <td>WI</td>\n",
       "      <td>4.0</td>\n",
       "      <td>212</td>\n",
       "      <td>/nchs/pressroom/states/wisconsin/wisconsin.htm</td>\n",
       "    </tr>\n",
       "    <tr>\n",
       "      <th>449</th>\n",
       "      <td>1999</td>\n",
       "      <td>WY</td>\n",
       "      <td>4.1</td>\n",
       "      <td>20</td>\n",
       "      <td>/nchs/pressroom/states/wyoming/wyoming.htm</td>\n",
       "    </tr>\n",
       "  </tbody>\n",
       "</table>\n",
       "<p>450 rows × 5 columns</p>\n",
       "</div>"
      ],
      "text/plain": [
       "     YEAR STATE  RATE DEATHS  \\\n",
       "0    2020    AL  22.3   1029   \n",
       "1    2020    AK  22.0    160   \n",
       "2    2020    AZ  35.8   2550   \n",
       "3    2020    AR  19.1    546   \n",
       "4    2020    CA  21.8   8908   \n",
       "..    ...   ...   ...    ...   \n",
       "445  1999    VA   5.0    366   \n",
       "446  1999    WA   9.3    555   \n",
       "447  1999    WV   4.1     75   \n",
       "448  1999    WI   4.0    212   \n",
       "449  1999    WY   4.1     20   \n",
       "\n",
       "                                                   URL  \n",
       "0                /nchs/pressroom/states/alabama/al.htm  \n",
       "1                 /nchs/pressroom/states/alaska/ak.htm  \n",
       "2                /nchs/pressroom/states/arizona/az.htm  \n",
       "3               /nchs/pressroom/states/arkansas/ar.htm  \n",
       "4             /nchs/pressroom/states/california/ca.htm  \n",
       "..                                                 ...  \n",
       "445       /nchs/pressroom/states/virginia/virginia.htm  \n",
       "446   /nchs/pressroom/states/washington/washington.htm  \n",
       "447  /nchs/pressroom/states/westvirginia/westvirgin...  \n",
       "448     /nchs/pressroom/states/wisconsin/wisconsin.htm  \n",
       "449         /nchs/pressroom/states/wyoming/wyoming.htm  \n",
       "\n",
       "[450 rows x 5 columns]"
      ]
     },
     "execution_count": 8,
     "metadata": {},
     "output_type": "execute_result"
    }
   ],
   "source": [
    "usa_addiction"
   ]
  },
  {
   "cell_type": "code",
   "execution_count": 11,
   "metadata": {},
   "outputs": [
    {
     "data": {
      "text/plain": [
       "<AxesSubplot:xlabel='YEAR'>"
      ]
     },
     "execution_count": 11,
     "metadata": {},
     "output_type": "execute_result"
    },
    {
     "data": {
      "image/png": "[encoded data removed]",
      "text/plain": [
       "<Figure size 432x288 with 1 Axes>"
      ]
     },
     "metadata": {
      "needs_background": "light"
     },
     "output_type": "display_data"
    }
   ],
   "source": [
    "sns.lineplot(\n",
    "    data = usa_addiction.query(\"STATE == 'WA'\"),\n",
    "    x = 'YEAR'\n",
    ")\n",
    "\n",
    "plt.show()"
   ]
  },
  {
   "cell_type": "code",
   "execution_count": 14,
   "metadata": {},
   "outputs": [],
   "source": []
  },
  {
   "cell_type": "code",
   "execution_count": null,
   "metadata": {},
   "outputs": [],
   "source": []
  }
 ],
 "metadata": {
  "kernelspec": {
   "display_name": "Python 3.9.7 ('base')",
   "language": "python",
   "name": "python3"
  },
  "language_info": {
   "codemirror_mode": {
    "name": "ipython",
    "version": 3
   },
   "file_extension": ".py",
   "mimetype": "text/x-python",
   "name": "python",
   "nbconvert_exporter": "python",
   "pygments_lexer": "ipython3",
   "version": "3.9.7"
  },
  "orig_nbformat": 4,
  "vscode": {
   "interpreter": {
    "hash": "2e2436d28dea7d58079a86e4d4800ef5b3777af81b4ef91364f025c62c6fe551"
   }
  }
 },
 "nbformat": 4,
 "nbformat_minor": 2
}
